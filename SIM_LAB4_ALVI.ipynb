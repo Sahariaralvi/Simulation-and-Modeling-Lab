{
  "nbformat": 4,
  "nbformat_minor": 0,
  "metadata": {
    "colab": {
      "provenance": []
    },
    "kernelspec": {
      "name": "python3",
      "display_name": "Python 3"
    },
    "language_info": {
      "name": "python"
    }
  },
  "cells": [
    {
      "cell_type": "code",
      "execution_count": 4,
      "metadata": {
        "colab": {
          "base_uri": "https://localhost:8080/"
        },
        "id": "A-pMuQKxpzWm",
        "outputId": "ccd4823f-cb46-4159-fa62-26c7d6c4fc38"
      },
      "outputs": [
        {
          "output_type": "stream",
          "name": "stdout",
          "text": [
            "Range Used   | Total Points  | Points Inside  | Estimated π  | Error     \n",
            "---------------------------------------------------------------------------\n",
            "5.70         | 2000          | 1546           | 3.092000     | 0.049593  \n",
            "5.70         | 4000          | 3157           | 3.157000     | 0.015407  \n",
            "5.70         | 6000          | 4745           | 3.163333     | 0.021741  \n",
            "5.70         | 8000          | 6267           | 3.133500     | 0.008093  \n",
            "5.70         | 10000         | 7854           | 3.141600     | 0.000007  \n"
          ]
        }
      ],
      "source": [
        "import random\n",
        "import numpy as np\n",
        "import math\n",
        "\n",
        "# ----- CONFIG -----\n",
        "R = 26  # Last two digits of student ID\n",
        "r = R / 10\n",
        "name = \"Sahariar Alvi\"  # Your full name with no spaces\n",
        "num_letters = len(name)\n",
        "min_points = 200 * num_letters\n",
        "\n",
        "# Function to check if point is inside circle of radius r\n",
        "def is_inside_circle(x, y, radius):\n",
        "    return x**2 + y**2 <= radius**2\n",
        "\n",
        "# Function to estimate pi\n",
        "def estimate_pi(num_points, radius):\n",
        "    inside = 0\n",
        "\n",
        "    for i in range(num_points):\n",
        "        # Use two different methods\n",
        "        if i % 2 == 0:\n",
        "            # random.uniform\n",
        "            x = random.uniform(-radius, radius)\n",
        "            y = random.uniform(-radius, radius)\n",
        "        else:\n",
        "            # numpy.random.rand scaled to (-r, r)\n",
        "            x = (np.random.rand() * 2 - 1) * radius\n",
        "            y = (np.random.rand() * 2 - 1) * radius\n",
        "\n",
        "        if is_inside_circle(x, y, radius):\n",
        "            inside += 1\n",
        "\n",
        "    pi_est = 4 * inside / num_points\n",
        "    error = abs(pi_est - math.pi)\n",
        "    return inside, pi_est, error\n",
        "\n",
        "# ----- MAIN LOOP -----\n",
        "print(f\"{'Range Used':<12} | {'Total Points':<13} | {'Points Inside':<14} | {'Estimated π':<12} | {'Error':<10}\")\n",
        "print(\"-\" * 75)\n",
        "\n",
        "for multiplier in range(1, 6):  # 5 runs\n",
        "    total_points = min_points * multiplier\n",
        "    inside, pi_est, error = estimate_pi(total_points, r)\n",
        "    print(f\"{r:<12.2f} | {total_points:<13} | {inside:<14} | {pi_est:<12.6f} | {error:<10.6f}\")\n"
      ]
    }
  ]
}